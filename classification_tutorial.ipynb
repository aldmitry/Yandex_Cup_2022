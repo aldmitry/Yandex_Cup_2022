{
 "cells": [
  {
   "cell_type": "markdown",
   "metadata": {
    "pycharm": {
     "name": "#%% md\n"
    }
   },
   "source": [
    "## Libraries installation"
   ]
  },
  {
   "cell_type": "code",
   "execution_count": 1,
   "metadata": {
    "pycharm": {
     "name": "#%%\n"
    }
   },
   "outputs": [
    {
     "name": "stdout",
     "output_type": "stream",
     "text": [
      "1.1.1\n",
      "Python 3.10.5\n"
     ]
    }
   ],
   "source": [
    "import catboost\n",
    "from catboost.utils import create_cd\n",
    "print(catboost.__version__)\n",
    "!python --version"
   ]
  },
  {
   "cell_type": "markdown",
   "metadata": {
    "pycharm": {
     "name": "#%% md\n"
    }
   },
   "source": [
    "## Reading the data"
   ]
  },
  {
   "cell_type": "code",
   "execution_count": 2,
   "metadata": {
    "pycharm": {
     "name": "#%%\n"
    }
   },
   "outputs": [],
   "source": [
    "import pandas as pd\n",
    "import os\n",
    "import numpy as np\n",
    "np.set_printoptions(precision=4)\n",
    "import catboost\n",
    "from catboost import *\n",
    "from catboost import datasets"
   ]
  },
  {
   "cell_type": "code",
   "execution_count": 3,
   "metadata": {
    "pycharm": {
     "name": "#%%\n"
    }
   },
   "outputs": [],
   "source": [
    "(train_df, test_df) = catboost.datasets.amazon()"
   ]
  },
  {
   "cell_type": "code",
   "execution_count": 4,
   "metadata": {
    "pycharm": {
     "name": "#%%\n"
    }
   },
   "outputs": [
    {
     "data": {
      "text/plain": "   ACTION  RESOURCE  MGR_ID  ROLE_ROLLUP_1  ROLE_ROLLUP_2  ROLE_DEPTNAME  \\\n0       1     39353   85475         117961         118300         123472   \n1       1     17183    1540         117961         118343         123125   \n2       1     36724   14457         118219         118220         117884   \n3       1     36135    5396         117961         118343         119993   \n4       1     42680    5905         117929         117930         119569   \n\n   ROLE_TITLE  ROLE_FAMILY_DESC  ROLE_FAMILY  ROLE_CODE  \n0      117905            117906       290919     117908  \n1      118536            118536       308574     118539  \n2      117879            267952        19721     117880  \n3      118321            240983       290919     118322  \n4      119323            123932        19793     119325  ",
      "text/html": "<div>\n<style scoped>\n    .dataframe tbody tr th:only-of-type {\n        vertical-align: middle;\n    }\n\n    .dataframe tbody tr th {\n        vertical-align: top;\n    }\n\n    .dataframe thead th {\n        text-align: right;\n    }\n</style>\n<table border=\"1\" class=\"dataframe\">\n  <thead>\n    <tr style=\"text-align: right;\">\n      <th></th>\n      <th>ACTION</th>\n      <th>RESOURCE</th>\n      <th>MGR_ID</th>\n      <th>ROLE_ROLLUP_1</th>\n      <th>ROLE_ROLLUP_2</th>\n      <th>ROLE_DEPTNAME</th>\n      <th>ROLE_TITLE</th>\n      <th>ROLE_FAMILY_DESC</th>\n      <th>ROLE_FAMILY</th>\n      <th>ROLE_CODE</th>\n    </tr>\n  </thead>\n  <tbody>\n    <tr>\n      <th>0</th>\n      <td>1</td>\n      <td>39353</td>\n      <td>85475</td>\n      <td>117961</td>\n      <td>118300</td>\n      <td>123472</td>\n      <td>117905</td>\n      <td>117906</td>\n      <td>290919</td>\n      <td>117908</td>\n    </tr>\n    <tr>\n      <th>1</th>\n      <td>1</td>\n      <td>17183</td>\n      <td>1540</td>\n      <td>117961</td>\n      <td>118343</td>\n      <td>123125</td>\n      <td>118536</td>\n      <td>118536</td>\n      <td>308574</td>\n      <td>118539</td>\n    </tr>\n    <tr>\n      <th>2</th>\n      <td>1</td>\n      <td>36724</td>\n      <td>14457</td>\n      <td>118219</td>\n      <td>118220</td>\n      <td>117884</td>\n      <td>117879</td>\n      <td>267952</td>\n      <td>19721</td>\n      <td>117880</td>\n    </tr>\n    <tr>\n      <th>3</th>\n      <td>1</td>\n      <td>36135</td>\n      <td>5396</td>\n      <td>117961</td>\n      <td>118343</td>\n      <td>119993</td>\n      <td>118321</td>\n      <td>240983</td>\n      <td>290919</td>\n      <td>118322</td>\n    </tr>\n    <tr>\n      <th>4</th>\n      <td>1</td>\n      <td>42680</td>\n      <td>5905</td>\n      <td>117929</td>\n      <td>117930</td>\n      <td>119569</td>\n      <td>119323</td>\n      <td>123932</td>\n      <td>19793</td>\n      <td>119325</td>\n    </tr>\n  </tbody>\n</table>\n</div>"
     },
     "execution_count": 4,
     "metadata": {},
     "output_type": "execute_result"
    }
   ],
   "source": [
    "train_df.head()"
   ]
  },
  {
   "cell_type": "markdown",
   "metadata": {
    "pycharm": {
     "name": "#%% md\n"
    }
   },
   "source": [
    "## Preparing your data"
   ]
  },
  {
   "cell_type": "code",
   "execution_count": 5,
   "metadata": {
    "pycharm": {
     "name": "#%%\n"
    }
   },
   "outputs": [],
   "source": [
    "y = train_df.ACTION\n",
    "X = train_df.drop('ACTION', axis=1)"
   ]
  },
  {
   "cell_type": "code",
   "execution_count": 6,
   "metadata": {
    "pycharm": {
     "name": "#%%\n"
    }
   },
   "outputs": [
    {
     "name": "stdout",
     "output_type": "stream",
     "text": [
      "[0, 1, 2, 3, 4, 5, 6, 7, 8]\n"
     ]
    }
   ],
   "source": [
    "cat_features = list(range(0, X.shape[1]))\n",
    "print(cat_features)"
   ]
  },
  {
   "cell_type": "code",
   "execution_count": 7,
   "metadata": {
    "pycharm": {
     "name": "#%%\n"
    }
   },
   "outputs": [
    {
     "name": "stdout",
     "output_type": "stream",
     "text": [
      "Labels: {0, 1}\n",
      "Zero count = 1897, One count = 30872\n"
     ]
    }
   ],
   "source": [
    "print('Labels: {}'.format(set(y)))\n",
    "print('Zero count = {}, One count = {}'.format(len(y) - sum(y), sum(y)))"
   ]
  },
  {
   "cell_type": "code",
   "execution_count": 8,
   "metadata": {
    "pycharm": {
     "name": "#%%\n"
    }
   },
   "outputs": [],
   "source": [
    "dataset_dir = './amazon'\n",
    "if not os.path.exists(dataset_dir):\n",
    "    os.makedirs(dataset_dir)\n",
    "\n",
    "# We will be able to work with files with/without header and\n",
    "# with different separators.\n",
    "train_df.to_csv(\n",
    "    os.path.join(dataset_dir, 'train.tsv'),\n",
    "    index=False, sep='\\t', header=False\n",
    ")\n",
    "test_df.to_csv(\n",
    "    os.path.join(dataset_dir, 'test.tsv'),\n",
    "    index=False, sep='\\t', header=False\n",
    ")\n",
    "\n",
    "train_df.to_csv(\n",
    "    os.path.join(dataset_dir, 'train.csv'),\n",
    "    index=False, sep=',', header=True\n",
    ")\n",
    "test_df.to_csv(\n",
    "    os.path.join(dataset_dir, 'test.csv'),\n",
    "    index=False, sep=',', header=True\n",
    ")"
   ]
  },
  {
   "cell_type": "code",
   "execution_count": 14,
   "outputs": [
    {
     "data": {
      "text/plain": "{1: 'RESOURCE',\n 2: 'MGR_ID',\n 3: 'ROLE_ROLLUP_1',\n 4: 'ROLE_ROLLUP_2',\n 5: 'ROLE_DEPTNAME',\n 6: 'ROLE_TITLE',\n 7: 'ROLE_FAMILY_DESC',\n 8: 'ROLE_FAMILY',\n 9: 'ROLE_CODE'}"
     },
     "execution_count": 14,
     "metadata": {},
     "output_type": "execute_result"
    }
   ],
   "source": [
    "feature_names = dict()\n",
    "for column, name in enumerate(train_df):\n",
    "    if column == 0:\n",
    "        continue\n",
    "    feature_names[column] = name\n",
    "feature_names"
   ],
   "metadata": {
    "collapsed": false,
    "pycharm": {
     "name": "#%%\n"
    }
   }
  },
  {
   "cell_type": "code",
   "execution_count": 15,
   "metadata": {
    "pycharm": {
     "name": "#%%\n"
    }
   },
   "outputs": [],
   "source": [
    "create_cd(\n",
    "    label=0, \n",
    "    cat_features=list(range(1, train_df.columns.shape[0])),\n",
    "    feature_names=feature_names,\n",
    "    output_path=os.path.join(dataset_dir, 'train.cd')\n",
    ")"
   ]
  },
  {
   "cell_type": "code",
   "execution_count": 16,
   "metadata": {
    "pycharm": {
     "name": "#%%\n"
    }
   },
   "outputs": [
    {
     "name": "stdout",
     "output_type": "stream",
     "text": [
      "Dataset shape\n",
      "dataset 1:(32769, 9)\n",
      "dataset 2:(32769, 9)\n",
      "dataset 3:(32769, 9)\n",
      "dataset 4: (32769, 9)\n",
      "\n",
      "\n",
      "Column names\n",
      "dataset 1:\n",
      "['RESOURCE', 'MGR_ID', 'ROLE_ROLLUP_1', 'ROLE_ROLLUP_2', 'ROLE_DEPTNAME', 'ROLE_TITLE', 'ROLE_FAMILY_DESC', 'ROLE_FAMILY', 'ROLE_CODE']\n",
      "\n",
      "dataset 2:\n",
      "['RESOURCE', 'MGR_ID', 'ROLE_ROLLUP_1', 'ROLE_ROLLUP_2', 'ROLE_DEPTNAME', 'ROLE_TITLE', 'ROLE_FAMILY_DESC', 'ROLE_FAMILY', 'ROLE_CODE']\n",
      "\n",
      "dataset 3:\n",
      "['RESOURCE', 'MGR_ID', 'ROLE_ROLLUP_1', 'ROLE_ROLLUP_2', 'ROLE_DEPTNAME', 'ROLE_TITLE', 'ROLE_FAMILY_DESC', 'ROLE_FAMILY', 'ROLE_CODE']\n",
      "\n",
      "dataset 4:\n",
      "['RESOURCE', 'MGR_ID', 'ROLE_ROLLUP_1', 'ROLE_ROLLUP_2', 'ROLE_DEPTNAME', 'ROLE_TITLE', 'ROLE_FAMILY_DESC', 'ROLE_FAMILY', 'ROLE_CODE']\n"
     ]
    }
   ],
   "source": [
    "pool1 = Pool(data=X, label=y, cat_features=cat_features)\n",
    "pool2 = Pool(\n",
    "    data=os.path.join(dataset_dir, 'train.csv'), \n",
    "    delimiter=',', \n",
    "    column_description=os.path.join(dataset_dir, 'train.cd'),\n",
    "    has_header=True\n",
    ")\n",
    "pool3 = Pool(data=X, cat_features=cat_features)\n",
    "\n",
    "# Fastest way to create a Pool is to create it from numpy matrix.\n",
    "# This way should be used if you want fast predictions\n",
    "# or fastest way to load the data in python.\n",
    "\n",
    "X_prepared = X.values.astype(str).astype(object)\n",
    "# For FeaturesData class categorial features must have type str\n",
    "\n",
    "pool4 = Pool(\n",
    "    data=FeaturesData(\n",
    "        cat_feature_data=X_prepared,\n",
    "        cat_feature_names=list(X)\n",
    "    ),\n",
    "    label=y.values\n",
    ")\n",
    "\n",
    "print('Dataset shape')\n",
    "print('dataset 1:' + str(pool1.shape) +\n",
    "      '\\ndataset 2:' + str(pool2.shape) + \n",
    "      '\\ndataset 3:' + str(pool3.shape) +\n",
    "      '\\ndataset 4: ' + str(pool4.shape))\n",
    "\n",
    "print('\\n')\n",
    "print('Column names')\n",
    "print('dataset 1:')\n",
    "print(pool1.get_feature_names()) \n",
    "print('\\ndataset 2:')\n",
    "print(pool2.get_feature_names())\n",
    "print('\\ndataset 3:')\n",
    "print(pool3.get_feature_names())\n",
    "print('\\ndataset 4:')\n",
    "print(pool4.get_feature_names())"
   ]
  },
  {
   "cell_type": "markdown",
   "metadata": {
    "pycharm": {
     "name": "#%% md\n"
    }
   },
   "source": [
    "## Split your data into train and validation"
   ]
  },
  {
   "cell_type": "code",
   "execution_count": 8,
   "metadata": {
    "pycharm": {
     "name": "#%%\n"
    }
   },
   "outputs": [],
   "source": [
    "from sklearn.model_selection import train_test_split\n",
    "X_train, X_validation, y_train, y_validation = train_test_split(X, y, train_size=0.8, random_state=1234)"
   ]
  },
  {
   "cell_type": "markdown",
   "metadata": {
    "pycharm": {
     "name": "#%% md\n"
    }
   },
   "source": [
    "## Selecting the objective function"
   ]
  },
  {
   "cell_type": "markdown",
   "metadata": {
    "pycharm": {
     "name": "#%% md\n"
    }
   },
   "source": [
    "Possible options for binary classification:\n",
    "\n",
    "`Logloss`\n",
    "\n",
    "`CrossEntropy` for probabilities in target"
   ]
  },
  {
   "cell_type": "code",
   "execution_count": 19,
   "metadata": {
    "pycharm": {
     "name": "#%%\n"
    }
   },
   "outputs": [
    {
     "name": "stdout",
     "output_type": "stream",
     "text": [
      "Model is fitted: True\n",
      "Model params:\n",
      "{'iterations': 5, 'learning_rate': 0.1}\n"
     ]
    }
   ],
   "source": [
    "from catboost import CatBoostClassifier\n",
    "model = CatBoostClassifier(\n",
    "    iterations=5,\n",
    "    learning_rate=0.1,\n",
    "    # loss_function='CrossEntropy'\n",
    ")\n",
    "history = model.fit(\n",
    "    X_train, y_train,\n",
    "    cat_features=cat_features,\n",
    "    eval_set=(X_validation, y_validation),\n",
    "    verbose=False\n",
    ")\n",
    "print('Model is fitted: ' + str(model.is_fitted()))\n",
    "print('Model params:')\n",
    "print(model.get_params())"
   ]
  },
  {
   "cell_type": "markdown",
   "metadata": {
    "pycharm": {
     "name": "#%% md\n"
    }
   },
   "source": [
    "## Stdout of the training"
   ]
  },
  {
   "cell_type": "code",
   "execution_count": 9,
   "metadata": {
    "scrolled": false,
    "pycharm": {
     "name": "#%%\n"
    }
   },
   "outputs": [
    {
     "name": "stdout",
     "output_type": "stream",
     "text": [
      "Learning rate set to 0.441257\n",
      "0:\tlearn: 0.4220777\ttest: 0.4223741\tbest: 0.4223741 (0)\ttotal: 201ms\tremaining: 2.81s\n",
      "1:\tlearn: 0.3149660\ttest: 0.3151186\tbest: 0.3151186 (1)\ttotal: 255ms\tremaining: 1.66s\n",
      "2:\tlearn: 0.2621494\ttest: 0.2629766\tbest: 0.2629766 (2)\ttotal: 304ms\tremaining: 1.21s\n",
      "3:\tlearn: 0.2302316\ttest: 0.2302315\tbest: 0.2302315 (3)\ttotal: 352ms\tremaining: 968ms\n",
      "4:\tlearn: 0.2060274\ttest: 0.2019603\tbest: 0.2019603 (4)\ttotal: 405ms\tremaining: 810ms\n",
      "5:\tlearn: 0.1956107\ttest: 0.1894627\tbest: 0.1894627 (5)\ttotal: 448ms\tremaining: 671ms\n",
      "6:\tlearn: 0.1870345\ttest: 0.1790904\tbest: 0.1790904 (6)\ttotal: 520ms\tremaining: 594ms\n",
      "7:\tlearn: 0.1836943\ttest: 0.1748030\tbest: 0.1748030 (7)\ttotal: 622ms\tremaining: 544ms\n",
      "8:\tlearn: 0.1807119\ttest: 0.1707896\tbest: 0.1707896 (8)\ttotal: 688ms\tremaining: 459ms\n",
      "9:\tlearn: 0.1775777\ttest: 0.1662489\tbest: 0.1662489 (9)\ttotal: 731ms\tremaining: 366ms\n",
      "10:\tlearn: 0.1762130\ttest: 0.1654446\tbest: 0.1654446 (10)\ttotal: 779ms\tremaining: 283ms\n",
      "11:\tlearn: 0.1760650\ttest: 0.1653191\tbest: 0.1653191 (11)\ttotal: 811ms\tremaining: 203ms\n",
      "12:\tlearn: 0.1748232\ttest: 0.1642093\tbest: 0.1642093 (12)\ttotal: 850ms\tremaining: 131ms\n",
      "13:\tlearn: 0.1742028\ttest: 0.1638902\tbest: 0.1638902 (13)\ttotal: 905ms\tremaining: 64.6ms\n",
      "14:\tlearn: 0.1733966\ttest: 0.1627237\tbest: 0.1627237 (14)\ttotal: 932ms\tremaining: 0us\n",
      "\n",
      "bestTest = 0.162723674\n",
      "bestIteration = 14\n",
      "\n"
     ]
    },
    {
     "data": {
      "text/plain": "<catboost.core.CatBoostClassifier at 0x20ccbbcfbb0>"
     },
     "execution_count": 9,
     "metadata": {},
     "output_type": "execute_result"
    }
   ],
   "source": [
    "from catboost import CatBoostClassifier\n",
    "model = CatBoostClassifier(\n",
    "    iterations=15,\n",
    "#     verbose=5,\n",
    ")\n",
    "model.fit(\n",
    "    X_train, y_train,\n",
    "    cat_features=cat_features,\n",
    "    eval_set=(X_validation, y_validation),\n",
    ")"
   ]
  },
  {
   "cell_type": "markdown",
   "metadata": {
    "pycharm": {
     "name": "#%% md\n"
    }
   },
   "source": [
    "## Metrics calculation and graph plotting"
   ]
  },
  {
   "cell_type": "code",
   "execution_count": 24,
   "metadata": {
    "pycharm": {
     "name": "#%%\n"
    }
   },
   "outputs": [
    {
     "name": "stdout",
     "output_type": "stream",
     "text": [
      "0:\tlearn: 0.3971307\ttest: 0.3972988\tbest: 0.3972988 (0)\ttotal: 14.9ms\tremaining: 729ms\n",
      "1:\tlearn: 0.2946036\ttest: 0.2949819\tbest: 0.2949819 (1)\ttotal: 25.7ms\tremaining: 617ms\n",
      "2:\tlearn: 0.2446099\ttest: 0.2440945\tbest: 0.2440945 (2)\ttotal: 73.4ms\tremaining: 1.15s\n",
      "3:\tlearn: 0.2211550\ttest: 0.2211809\tbest: 0.2211809 (3)\ttotal: 112ms\tremaining: 1.29s\n",
      "4:\tlearn: 0.2005823\ttest: 0.1966284\tbest: 0.1966284 (4)\ttotal: 149ms\tremaining: 1.34s\n",
      "5:\tlearn: 0.1912649\ttest: 0.1846204\tbest: 0.1846204 (5)\ttotal: 179ms\tremaining: 1.31s\n",
      "6:\tlearn: 0.1844002\ttest: 0.1761335\tbest: 0.1761335 (6)\ttotal: 213ms\tremaining: 1.31s\n",
      "7:\tlearn: 0.1814791\ttest: 0.1718441\tbest: 0.1718441 (7)\ttotal: 238ms\tremaining: 1.25s\n",
      "8:\tlearn: 0.1788131\ttest: 0.1686524\tbest: 0.1686524 (8)\ttotal: 273ms\tremaining: 1.25s\n",
      "9:\tlearn: 0.1772082\ttest: 0.1671282\tbest: 0.1671282 (9)\ttotal: 303ms\tremaining: 1.21s\n",
      "10:\tlearn: 0.1759964\ttest: 0.1648306\tbest: 0.1648306 (10)\ttotal: 337ms\tremaining: 1.19s\n",
      "11:\tlearn: 0.1756792\ttest: 0.1644250\tbest: 0.1644250 (11)\ttotal: 368ms\tremaining: 1.17s\n",
      "12:\tlearn: 0.1747632\ttest: 0.1633104\tbest: 0.1633104 (12)\ttotal: 401ms\tremaining: 1.14s\n",
      "13:\tlearn: 0.1741151\ttest: 0.1630163\tbest: 0.1630163 (13)\ttotal: 427ms\tremaining: 1.1s\n",
      "14:\tlearn: 0.1737087\ttest: 0.1628976\tbest: 0.1628976 (14)\ttotal: 456ms\tremaining: 1.06s\n",
      "15:\tlearn: 0.1735968\ttest: 0.1627768\tbest: 0.1627768 (15)\ttotal: 486ms\tremaining: 1.03s\n",
      "16:\tlearn: 0.1731423\ttest: 0.1627589\tbest: 0.1627589 (16)\ttotal: 515ms\tremaining: 999ms\n",
      "17:\tlearn: 0.1730916\ttest: 0.1626880\tbest: 0.1626880 (17)\ttotal: 544ms\tremaining: 967ms\n",
      "18:\tlearn: 0.1730212\ttest: 0.1626765\tbest: 0.1626765 (18)\ttotal: 589ms\tremaining: 961ms\n",
      "19:\tlearn: 0.1726931\ttest: 0.1622917\tbest: 0.1622917 (19)\ttotal: 618ms\tremaining: 927ms\n",
      "20:\tlearn: 0.1720140\ttest: 0.1618063\tbest: 0.1618063 (20)\ttotal: 651ms\tremaining: 899ms\n",
      "21:\tlearn: 0.1718006\ttest: 0.1616157\tbest: 0.1616157 (21)\ttotal: 680ms\tremaining: 866ms\n",
      "22:\tlearn: 0.1705774\ttest: 0.1605526\tbest: 0.1605526 (22)\ttotal: 711ms\tremaining: 835ms\n",
      "23:\tlearn: 0.1699711\ttest: 0.1597544\tbest: 0.1597544 (23)\ttotal: 743ms\tremaining: 805ms\n",
      "24:\tlearn: 0.1696501\ttest: 0.1594851\tbest: 0.1594851 (24)\ttotal: 768ms\tremaining: 768ms\n",
      "25:\tlearn: 0.1695909\ttest: 0.1595631\tbest: 0.1594851 (24)\ttotal: 793ms\tremaining: 732ms\n",
      "26:\tlearn: 0.1692755\ttest: 0.1591357\tbest: 0.1591357 (26)\ttotal: 821ms\tremaining: 699ms\n",
      "27:\tlearn: 0.1684244\ttest: 0.1589188\tbest: 0.1589188 (27)\ttotal: 848ms\tremaining: 666ms\n",
      "28:\tlearn: 0.1683136\ttest: 0.1588282\tbest: 0.1588282 (28)\ttotal: 876ms\tremaining: 634ms\n",
      "29:\tlearn: 0.1679856\ttest: 0.1583206\tbest: 0.1583206 (29)\ttotal: 900ms\tremaining: 600ms\n",
      "30:\tlearn: 0.1674993\ttest: 0.1581344\tbest: 0.1581344 (30)\ttotal: 927ms\tremaining: 568ms\n",
      "31:\tlearn: 0.1673775\ttest: 0.1581106\tbest: 0.1581106 (31)\ttotal: 951ms\tremaining: 535ms\n",
      "32:\tlearn: 0.1673363\ttest: 0.1581236\tbest: 0.1581106 (31)\ttotal: 974ms\tremaining: 502ms\n",
      "33:\tlearn: 0.1672174\ttest: 0.1579966\tbest: 0.1579966 (33)\ttotal: 998ms\tremaining: 470ms\n",
      "34:\tlearn: 0.1669510\ttest: 0.1576908\tbest: 0.1576908 (34)\ttotal: 1.02s\tremaining: 437ms\n",
      "35:\tlearn: 0.1668463\ttest: 0.1576935\tbest: 0.1576908 (34)\ttotal: 1.05s\tremaining: 407ms\n",
      "36:\tlearn: 0.1667475\ttest: 0.1576169\tbest: 0.1576169 (36)\ttotal: 1.07s\tremaining: 377ms\n",
      "37:\tlearn: 0.1667302\ttest: 0.1576044\tbest: 0.1576044 (37)\ttotal: 1.1s\tremaining: 347ms\n",
      "38:\tlearn: 0.1666675\ttest: 0.1575522\tbest: 0.1575522 (38)\ttotal: 1.12s\tremaining: 317ms\n",
      "39:\tlearn: 0.1666541\ttest: 0.1575462\tbest: 0.1575462 (39)\ttotal: 1.15s\tremaining: 288ms\n",
      "40:\tlearn: 0.1663714\ttest: 0.1573888\tbest: 0.1573888 (40)\ttotal: 1.18s\tremaining: 259ms\n",
      "41:\tlearn: 0.1663139\ttest: 0.1573420\tbest: 0.1573420 (41)\ttotal: 1.2s\tremaining: 229ms\n",
      "42:\tlearn: 0.1661655\ttest: 0.1575060\tbest: 0.1573420 (41)\ttotal: 1.23s\tremaining: 200ms\n",
      "43:\tlearn: 0.1658664\ttest: 0.1572749\tbest: 0.1572749 (43)\ttotal: 1.25s\tremaining: 170ms\n",
      "44:\tlearn: 0.1658004\ttest: 0.1573178\tbest: 0.1572749 (43)\ttotal: 1.27s\tremaining: 142ms\n",
      "45:\tlearn: 0.1657417\ttest: 0.1573492\tbest: 0.1572749 (43)\ttotal: 1.3s\tremaining: 113ms\n",
      "46:\tlearn: 0.1656398\ttest: 0.1572658\tbest: 0.1572658 (46)\ttotal: 1.32s\tremaining: 84.5ms\n",
      "47:\tlearn: 0.1655331\ttest: 0.1572532\tbest: 0.1572532 (47)\ttotal: 1.34s\tremaining: 56.1ms\n",
      "48:\tlearn: 0.1654662\ttest: 0.1572756\tbest: 0.1572532 (47)\ttotal: 1.37s\tremaining: 27.9ms\n",
      "49:\tlearn: 0.1654581\ttest: 0.1572912\tbest: 0.1572532 (47)\ttotal: 1.39s\tremaining: 0us\n",
      "\n",
      "bestTest = 0.1572531727\n",
      "bestIteration = 47\n",
      "\n",
      "Shrink model to first 48 iterations.\n"
     ]
    },
    {
     "data": {
      "text/plain": "<catboost.core.CatBoostClassifier at 0x214652c5840>"
     },
     "execution_count": 24,
     "metadata": {},
     "output_type": "execute_result"
    }
   ],
   "source": [
    "from catboost import CatBoostClassifier\n",
    "model = CatBoostClassifier(\n",
    "    iterations=50,\n",
    "    random_seed=63,\n",
    "    learning_rate=0.5,\n",
    "    custom_loss=['AUC', 'Accuracy']\n",
    ")\n",
    "model.fit(\n",
    "    X_train, y_train,\n",
    "    cat_features=cat_features,\n",
    "    eval_set=(X_validation, y_validation),\n",
    "    #verbose=False,\n",
    "    #plot=True\n",
    ")"
   ]
  },
  {
   "cell_type": "markdown",
   "metadata": {
    "pycharm": {
     "name": "#%% md\n"
    }
   },
   "source": [
    "## Model comparison"
   ]
  },
  {
   "cell_type": "code",
   "execution_count": 25,
   "metadata": {
    "pycharm": {
     "name": "#%%\n"
    }
   },
   "outputs": [
    {
     "data": {
      "text/plain": "<catboost.core.CatBoostClassifier at 0x2146710b220>"
     },
     "execution_count": 25,
     "metadata": {},
     "output_type": "execute_result"
    }
   ],
   "source": [
    "model1 = CatBoostClassifier(\n",
    "    learning_rate=0.7,\n",
    "    iterations=100,\n",
    "    random_seed=0,\n",
    "    train_dir='learing_rate_0.7'\n",
    ")\n",
    "\n",
    "model2 = CatBoostClassifier(\n",
    "    learning_rate=0.01,\n",
    "    iterations=100,\n",
    "    random_seed=0,\n",
    "    train_dir='learing_rate_0.01'\n",
    ")\n",
    "model1.fit(\n",
    "    X_train, y_train,\n",
    "    eval_set=(X_validation, y_validation),\n",
    "    cat_features=cat_features,\n",
    "    verbose=False\n",
    ")\n",
    "model2.fit(\n",
    "    X_train, y_train,\n",
    "    eval_set=(X_validation, y_validation),\n",
    "    cat_features=cat_features,\n",
    "    verbose=False\n",
    ")"
   ]
  },
  {
   "cell_type": "code",
   "execution_count": null,
   "metadata": {
    "pycharm": {
     "name": "#%%\n"
    }
   },
   "outputs": [],
   "source": [
    "from catboost import MetricVisualizer\n",
    "MetricVisualizer(['learing_rate_0.01', 'learing_rate_0.7']).start()"
   ]
  },
  {
   "cell_type": "markdown",
   "metadata": {
    "pycharm": {
     "name": "#%% md\n"
    }
   },
   "source": [
    "## Best iteration"
   ]
  },
  {
   "cell_type": "code",
   "execution_count": 27,
   "metadata": {
    "pycharm": {
     "name": "#%%\n"
    }
   },
   "outputs": [
    {
     "data": {
      "text/plain": "<catboost.core.CatBoostClassifier at 0x2146710b490>"
     },
     "execution_count": 27,
     "metadata": {},
     "output_type": "execute_result"
    }
   ],
   "source": [
    "from catboost import CatBoostClassifier\n",
    "model = CatBoostClassifier(\n",
    "    iterations=100,\n",
    "    random_seed=63,\n",
    "    learning_rate=0.5,\n",
    "#     use_best_model=False\n",
    ")\n",
    "model.fit(\n",
    "    X_train, y_train,\n",
    "    cat_features=cat_features,\n",
    "    eval_set=(X_validation, y_validation),\n",
    "    verbose=False,\n",
    "    #plot=True\n",
    ")"
   ]
  },
  {
   "cell_type": "code",
   "execution_count": 28,
   "metadata": {
    "pycharm": {
     "name": "#%%\n"
    }
   },
   "outputs": [
    {
     "name": "stdout",
     "output_type": "stream",
     "text": [
      "Tree count: 82\n"
     ]
    }
   ],
   "source": [
    "print('Tree count: ' + str(model.tree_count_))"
   ]
  },
  {
   "cell_type": "markdown",
   "metadata": {
    "pycharm": {
     "name": "#%% md\n"
    }
   },
   "source": [
    "## Cross-validation"
   ]
  },
  {
   "cell_type": "code",
   "execution_count": 11,
   "metadata": {
    "pycharm": {
     "name": "#%%\n"
    }
   },
   "outputs": [
    {
     "name": "stdout",
     "output_type": "stream",
     "text": [
      "Training on fold [0/5]\n",
      "\n",
      "bestTest = 0.1674879003\n",
      "bestIteration = 36\n",
      "\n",
      "Training on fold [1/5]\n",
      "\n",
      "bestTest = 0.164632916\n",
      "bestIteration = 48\n",
      "\n",
      "Training on fold [2/5]\n",
      "\n",
      "bestTest = 0.1525678298\n",
      "bestIteration = 79\n",
      "\n",
      "Training on fold [3/5]\n",
      "\n",
      "bestTest = 0.1426916182\n",
      "bestIteration = 78\n",
      "\n",
      "Training on fold [4/5]\n",
      "\n",
      "bestTest = 0.1563234371\n",
      "bestIteration = 37\n",
      "\n"
     ]
    }
   ],
   "source": [
    "from catboost import cv\n",
    "\n",
    "params = {}\n",
    "params['loss_function'] = 'Logloss'\n",
    "params['iterations'] = 80\n",
    "params['custom_loss'] = 'F1'\n",
    "params['random_seed'] = 63\n",
    "params['learning_rate'] = 0.5\n",
    "\n",
    "cv_data = cv(\n",
    "    params = params,\n",
    "    pool = Pool(X, label=y, cat_features=cat_features),\n",
    "    fold_count=5,\n",
    "    shuffle=True,\n",
    "    partition_random_seed=0,\n",
    "    #plot=True,\n",
    "    stratified=False,\n",
    "    verbose=False\n",
    ")"
   ]
  },
  {
   "cell_type": "code",
   "execution_count": 12,
   "metadata": {
    "pycharm": {
     "name": "#%%\n"
    }
   },
   "outputs": [
    {
     "data": {
      "text/plain": "   iterations  test-Logloss-mean  test-Logloss-std  train-Logloss-mean  \\\n0           0           0.302367          0.004317            0.302196   \n1           1           0.226879          0.007618            0.228406   \n2           2           0.189560          0.005706            0.195723   \n3           3           0.178061          0.006784            0.186107   \n4           4           0.171654          0.007401            0.181249   \n\n   train-Logloss-std  test-F1-mean  test-F1-std  train-F1-mean  train-F1-std  \n0           0.004517      0.970189     0.001912       0.970192      0.000478  \n1           0.005219      0.970189     0.001912       0.970192      0.000478  \n2           0.004473      0.970189     0.001912       0.970192      0.000478  \n3           0.003632      0.970316     0.001911       0.970379      0.000626  \n4           0.002254      0.970562     0.001799       0.970833      0.000736  ",
      "text/html": "<div>\n<style scoped>\n    .dataframe tbody tr th:only-of-type {\n        vertical-align: middle;\n    }\n\n    .dataframe tbody tr th {\n        vertical-align: top;\n    }\n\n    .dataframe thead th {\n        text-align: right;\n    }\n</style>\n<table border=\"1\" class=\"dataframe\">\n  <thead>\n    <tr style=\"text-align: right;\">\n      <th></th>\n      <th>iterations</th>\n      <th>test-Logloss-mean</th>\n      <th>test-Logloss-std</th>\n      <th>train-Logloss-mean</th>\n      <th>train-Logloss-std</th>\n      <th>test-F1-mean</th>\n      <th>test-F1-std</th>\n      <th>train-F1-mean</th>\n      <th>train-F1-std</th>\n    </tr>\n  </thead>\n  <tbody>\n    <tr>\n      <th>0</th>\n      <td>0</td>\n      <td>0.302367</td>\n      <td>0.004317</td>\n      <td>0.302196</td>\n      <td>0.004517</td>\n      <td>0.970189</td>\n      <td>0.001912</td>\n      <td>0.970192</td>\n      <td>0.000478</td>\n    </tr>\n    <tr>\n      <th>1</th>\n      <td>1</td>\n      <td>0.226879</td>\n      <td>0.007618</td>\n      <td>0.228406</td>\n      <td>0.005219</td>\n      <td>0.970189</td>\n      <td>0.001912</td>\n      <td>0.970192</td>\n      <td>0.000478</td>\n    </tr>\n    <tr>\n      <th>2</th>\n      <td>2</td>\n      <td>0.189560</td>\n      <td>0.005706</td>\n      <td>0.195723</td>\n      <td>0.004473</td>\n      <td>0.970189</td>\n      <td>0.001912</td>\n      <td>0.970192</td>\n      <td>0.000478</td>\n    </tr>\n    <tr>\n      <th>3</th>\n      <td>3</td>\n      <td>0.178061</td>\n      <td>0.006784</td>\n      <td>0.186107</td>\n      <td>0.003632</td>\n      <td>0.970316</td>\n      <td>0.001911</td>\n      <td>0.970379</td>\n      <td>0.000626</td>\n    </tr>\n    <tr>\n      <th>4</th>\n      <td>4</td>\n      <td>0.171654</td>\n      <td>0.007401</td>\n      <td>0.181249</td>\n      <td>0.002254</td>\n      <td>0.970562</td>\n      <td>0.001799</td>\n      <td>0.970833</td>\n      <td>0.000736</td>\n    </tr>\n  </tbody>\n</table>\n</div>"
     },
     "execution_count": 12,
     "metadata": {},
     "output_type": "execute_result"
    }
   ],
   "source": [
    "cv_data.head()"
   ]
  },
  {
   "cell_type": "code",
   "execution_count": null,
   "outputs": [],
   "source": [],
   "metadata": {
    "collapsed": false,
    "pycharm": {
     "name": "#%%\n"
    }
   }
  },
  {
   "cell_type": "code",
   "execution_count": 30,
   "metadata": {
    "pycharm": {
     "name": "#%%\n"
    }
   },
   "outputs": [
    {
     "name": "stdout",
     "output_type": "stream",
     "text": [
      "Best validation Logloss score, not stratified: 0.1581±0.0085 on step 42\n"
     ]
    }
   ],
   "source": [
    "best_value = np.min(cv_data['test-Logloss-mean'])\n",
    "best_iter = np.argmin(cv_data['test-Logloss-mean'])\n",
    "\n",
    "print('Best validation Logloss score, not stratified: {:.4f}±{:.4f} on step {}'.format(\n",
    "    best_value,\n",
    "    cv_data['test-Logloss-std'][best_iter],\n",
    "    best_iter)\n",
    ")"
   ]
  },
  {
   "cell_type": "code",
   "execution_count": 10,
   "metadata": {
    "pycharm": {
     "name": "#%%\n"
    }
   },
   "outputs": [
    {
     "ename": "NameError",
     "evalue": "name 'params' is not defined",
     "output_type": "error",
     "traceback": [
      "\u001B[1;31m---------------------------------------------------------------------------\u001B[0m",
      "\u001B[1;31mNameError\u001B[0m                                 Traceback (most recent call last)",
      "Cell \u001B[1;32mIn [10], line 2\u001B[0m\n\u001B[0;32m      1\u001B[0m cv_data \u001B[38;5;241m=\u001B[39m cv(\n\u001B[1;32m----> 2\u001B[0m     params \u001B[38;5;241m=\u001B[39m \u001B[43mparams\u001B[49m,\n\u001B[0;32m      3\u001B[0m     pool \u001B[38;5;241m=\u001B[39m Pool(X, label\u001B[38;5;241m=\u001B[39my, cat_features\u001B[38;5;241m=\u001B[39mcat_features),\n\u001B[0;32m      4\u001B[0m     fold_count\u001B[38;5;241m=\u001B[39m\u001B[38;5;241m5\u001B[39m,\n\u001B[0;32m      5\u001B[0m     inverted\u001B[38;5;241m=\u001B[39m\u001B[38;5;28;01mFalse\u001B[39;00m,\n\u001B[0;32m      6\u001B[0m     shuffle\u001B[38;5;241m=\u001B[39m\u001B[38;5;28;01mTrue\u001B[39;00m,\n\u001B[0;32m      7\u001B[0m     partition_random_seed\u001B[38;5;241m=\u001B[39m\u001B[38;5;241m0\u001B[39m,\n\u001B[0;32m      8\u001B[0m     plot\u001B[38;5;241m=\u001B[39m\u001B[38;5;28;01mTrue\u001B[39;00m,\n\u001B[0;32m      9\u001B[0m     stratified\u001B[38;5;241m=\u001B[39m\u001B[38;5;28;01mTrue\u001B[39;00m,\n\u001B[0;32m     10\u001B[0m     verbose\u001B[38;5;241m=\u001B[39m\u001B[38;5;28;01mFalse\u001B[39;00m\n\u001B[0;32m     11\u001B[0m )\n\u001B[0;32m     13\u001B[0m best_value \u001B[38;5;241m=\u001B[39m np\u001B[38;5;241m.\u001B[39mmin(cv_data[\u001B[38;5;124m'\u001B[39m\u001B[38;5;124mtest-Logloss-mean\u001B[39m\u001B[38;5;124m'\u001B[39m])\n\u001B[0;32m     14\u001B[0m best_iter \u001B[38;5;241m=\u001B[39m np\u001B[38;5;241m.\u001B[39margmin(cv_data[\u001B[38;5;124m'\u001B[39m\u001B[38;5;124mtest-Logloss-mean\u001B[39m\u001B[38;5;124m'\u001B[39m])\n",
      "\u001B[1;31mNameError\u001B[0m: name 'params' is not defined"
     ]
    }
   ],
   "source": [
    "cv_data = cv(\n",
    "    params = params,\n",
    "    pool = Pool(X, label=y, cat_features=cat_features),\n",
    "    fold_count=5,\n",
    "    inverted=False,\n",
    "    shuffle=True,\n",
    "    partition_random_seed=0,\n",
    "    plot=True,\n",
    "    stratified=True,\n",
    "    verbose=False\n",
    ")\n",
    "\n",
    "best_value = np.min(cv_data['test-Logloss-mean'])\n",
    "best_iter = np.argmin(cv_data['test-Logloss-mean'])\n",
    "\n",
    "print('Best validation Logloss score, stratified: {:.4f}±{:.4f} on step {}'.format(\n",
    "    best_value,\n",
    "    cv_data['test-Logloss-std'][best_iter],\n",
    "    best_iter)\n",
    ")"
   ]
  },
  {
   "cell_type": "markdown",
   "metadata": {
    "pycharm": {
     "name": "#%% md\n"
    }
   },
   "source": [
    "## Overfitting detector"
   ]
  },
  {
   "cell_type": "code",
   "execution_count": null,
   "metadata": {
    "pycharm": {
     "name": "#%%\n"
    }
   },
   "outputs": [],
   "source": [
    "model_with_early_stop = CatBoostClassifier(\n",
    "    iterations=200,\n",
    "    random_seed=63,\n",
    "    learning_rate=0.5,\n",
    "    early_stopping_rounds=20\n",
    ")\n",
    "model_with_early_stop.fit(\n",
    "    X_train, y_train,\n",
    "    cat_features=cat_features,\n",
    "    eval_set=(X_validation, y_validation),\n",
    "    verbose=False,\n",
    "    plot=True\n",
    ")"
   ]
  },
  {
   "cell_type": "code",
   "execution_count": null,
   "metadata": {
    "pycharm": {
     "name": "#%%\n"
    }
   },
   "outputs": [],
   "source": [
    "print(model_with_early_stop.tree_count_)"
   ]
  },
  {
   "cell_type": "code",
   "execution_count": null,
   "metadata": {
    "pycharm": {
     "name": "#%%\n"
    }
   },
   "outputs": [],
   "source": [
    "model_with_early_stop = CatBoostClassifier(\n",
    "    eval_metric='AUC',\n",
    "    iterations=200,\n",
    "    random_seed=63,\n",
    "    learning_rate=0.5,\n",
    "    early_stopping_rounds=20\n",
    ")\n",
    "model_with_early_stop.fit(\n",
    "    X_train, y_train,\n",
    "    cat_features=cat_features,\n",
    "    eval_set=(X_validation, y_validation),\n",
    "    verbose=False,\n",
    "    plot=True\n",
    ")"
   ]
  },
  {
   "cell_type": "code",
   "execution_count": null,
   "metadata": {
    "pycharm": {
     "name": "#%%\n"
    }
   },
   "outputs": [],
   "source": [
    "print(model_with_early_stop.tree_count_)"
   ]
  },
  {
   "cell_type": "markdown",
   "metadata": {
    "pycharm": {
     "name": "#%% md\n"
    }
   },
   "source": [
    "## Select decision boundary"
   ]
  },
  {
   "cell_type": "code",
   "execution_count": null,
   "metadata": {
    "pycharm": {
     "name": "#%%\n"
    }
   },
   "outputs": [],
   "source": [
    "model = CatBoostClassifier(\n",
    "    random_seed=63,\n",
    "    iterations=200,\n",
    "    learning_rate=0.03,\n",
    ")\n",
    "model.fit(\n",
    "    X_train, y_train,\n",
    "    cat_features=cat_features,\n",
    "    verbose=False,\n",
    "    plot=True\n",
    ")"
   ]
  },
  {
   "cell_type": "markdown",
   "metadata": {
    "pycharm": {
     "name": "#%% md\n"
    }
   },
   "source": [
    "![](https://habrastorage.org/webt/y4/1q/yq/y41qyqfm9mcerp2ziys48phpjia.png)"
   ]
  },
  {
   "cell_type": "code",
   "execution_count": null,
   "metadata": {
    "pycharm": {
     "name": "#%%\n"
    }
   },
   "outputs": [],
   "source": [
    "from catboost.utils import get_roc_curve\n",
    "import sklearn\n",
    "from sklearn import metrics\n",
    "\n",
    "eval_pool = Pool(X_validation, y_validation, cat_features=cat_features)\n",
    "curve = get_roc_curve(model, eval_pool)\n",
    "(fpr, tpr, thresholds) = curve\n",
    "roc_auc = sklearn.metrics.auc(fpr, tpr)"
   ]
  },
  {
   "cell_type": "code",
   "execution_count": null,
   "metadata": {
    "pycharm": {
     "name": "#%%\n"
    }
   },
   "outputs": [],
   "source": [
    "import matplotlib.pyplot as plt\n",
    "\n",
    "plt.figure(figsize=(16, 8))\n",
    "lw = 2\n",
    "\n",
    "plt.plot(fpr, tpr, color='darkorange',\n",
    "         lw=lw, label='ROC curve (area = %0.2f)' % roc_auc, alpha=0.5)\n",
    "\n",
    "plt.plot([0, 1], [0, 1], color='navy', lw=lw, linestyle='--', alpha=0.5)\n",
    "\n",
    "plt.xlim([0.0, 1.0])\n",
    "plt.ylim([0.0, 1.05])\n",
    "plt.xticks(fontsize=16)\n",
    "plt.yticks(fontsize=16)\n",
    "plt.grid(True)\n",
    "plt.xlabel('False Positive Rate', fontsize=16)\n",
    "plt.ylabel('True Positive Rate', fontsize=16)\n",
    "plt.title('Receiver operating characteristic', fontsize=20)\n",
    "plt.legend(loc=\"lower right\", fontsize=16)\n",
    "plt.show()"
   ]
  },
  {
   "cell_type": "code",
   "execution_count": null,
   "metadata": {
    "pycharm": {
     "name": "#%%\n"
    }
   },
   "outputs": [],
   "source": [
    "from catboost.utils import get_fpr_curve\n",
    "from catboost.utils import get_fnr_curve\n",
    "\n",
    "(thresholds, fpr) = get_fpr_curve(curve=curve)\n",
    "(thresholds, fnr) = get_fnr_curve(curve=curve)"
   ]
  },
  {
   "cell_type": "code",
   "execution_count": null,
   "metadata": {
    "pycharm": {
     "name": "#%%\n"
    }
   },
   "outputs": [],
   "source": [
    "plt.figure(figsize=(16, 8))\n",
    "lw = 2\n",
    "\n",
    "plt.plot(thresholds, fpr, color='blue', lw=lw, label='FPR', alpha=0.5)\n",
    "plt.plot(thresholds, fnr, color='green', lw=lw, label='FNR', alpha=0.5)\n",
    "\n",
    "plt.xlim([0.0, 1.0])\n",
    "plt.ylim([0.0, 1.05])\n",
    "plt.xticks(fontsize=16)\n",
    "plt.yticks(fontsize=16)\n",
    "plt.grid(True)\n",
    "plt.xlabel('Threshold', fontsize=16)\n",
    "plt.ylabel('Error Rate', fontsize=16)\n",
    "plt.title('FPR-FNR curves', fontsize=20)\n",
    "plt.legend(loc=\"lower left\", fontsize=16)\n",
    "plt.show()"
   ]
  },
  {
   "cell_type": "code",
   "execution_count": null,
   "metadata": {
    "pycharm": {
     "name": "#%%\n"
    }
   },
   "outputs": [],
   "source": [
    "from catboost.utils import select_threshold\n",
    "\n",
    "print(select_threshold(model=model, data=eval_pool, FNR=0.01))\n",
    "print(select_threshold(model=model, data=eval_pool, FPR=0.01))"
   ]
  },
  {
   "cell_type": "markdown",
   "metadata": {
    "pycharm": {
     "name": "#%% md\n"
    }
   },
   "source": [
    "## Snapshotting"
   ]
  },
  {
   "cell_type": "code",
   "execution_count": null,
   "metadata": {
    "scrolled": true,
    "pycharm": {
     "name": "#%%\n"
    }
   },
   "outputs": [],
   "source": [
    "# !rm 'catboost_info/snapshot.bkp'\n",
    "from catboost import CatBoostClassifier\n",
    "model = CatBoostClassifier(\n",
    "    iterations=100,\n",
    "    save_snapshot=True,\n",
    "    snapshot_file='snapshot.bkp',\n",
    "    snapshot_interval=1,\n",
    "    random_seed=43\n",
    ")\n",
    "model.fit(\n",
    "    X_train, y_train,\n",
    "    eval_set=(X_validation, y_validation),\n",
    "    cat_features=cat_features,\n",
    "    verbose=True\n",
    ")"
   ]
  },
  {
   "cell_type": "markdown",
   "metadata": {
    "pycharm": {
     "name": "#%% md\n"
    }
   },
   "source": [
    "## Model predictions"
   ]
  },
  {
   "cell_type": "code",
   "execution_count": null,
   "metadata": {
    "pycharm": {
     "name": "#%%\n"
    }
   },
   "outputs": [],
   "source": [
    "print(model.predict_proba(data=X_validation))"
   ]
  },
  {
   "cell_type": "code",
   "execution_count": null,
   "metadata": {
    "pycharm": {
     "name": "#%%\n"
    }
   },
   "outputs": [],
   "source": [
    "print(model.predict(data=X_validation))"
   ]
  },
  {
   "cell_type": "code",
   "execution_count": null,
   "metadata": {
    "pycharm": {
     "name": "#%%\n"
    }
   },
   "outputs": [],
   "source": [
    "raw_pred = model.predict(\n",
    "    data=X_validation,\n",
    "    prediction_type='RawFormulaVal'\n",
    ")\n",
    "print(raw_pred)"
   ]
  },
  {
   "cell_type": "code",
   "execution_count": null,
   "metadata": {
    "pycharm": {
     "name": "#%%\n"
    }
   },
   "outputs": [],
   "source": [
    "from numpy import exp\n",
    "\n",
    "sigmoid = lambda x: 1 / (1 + exp(-x))\n",
    "\n",
    "probabilities = sigmoid(raw_pred)\n",
    "\n",
    "print(probabilities)"
   ]
  },
  {
   "cell_type": "code",
   "execution_count": null,
   "metadata": {
    "pycharm": {
     "name": "#%%\n"
    }
   },
   "outputs": [],
   "source": [
    "X_prepared = X_validation.values.astype(str).astype(object)\n",
    "# For FeaturesData class categorial features must have type str\n",
    "\n",
    "fast_predictions = model.predict_proba(\n",
    "    data=FeaturesData(\n",
    "        cat_feature_data=X_prepared,\n",
    "        cat_feature_names=list(X_validation)\n",
    "    )\n",
    ")\n",
    "print(fast_predictions)"
   ]
  },
  {
   "cell_type": "markdown",
   "metadata": {
    "pycharm": {
     "name": "#%% md\n"
    }
   },
   "source": [
    "## Staged prediction"
   ]
  },
  {
   "cell_type": "code",
   "execution_count": null,
   "metadata": {
    "pycharm": {
     "name": "#%%\n"
    }
   },
   "outputs": [],
   "source": [
    "predictions_gen = model.staged_predict_proba(\n",
    "    data=X_validation,\n",
    "    ntree_start=0, \n",
    "    ntree_end=5, \n",
    "    eval_period=1\n",
    ")\n",
    "try:\n",
    "    for iteration, predictions in enumerate(predictions_gen):\n",
    "        print('Iteration ' + str(iteration) + ', predictions:')\n",
    "        print(predictions)\n",
    "except Exception:\n",
    "    pass"
   ]
  },
  {
   "cell_type": "markdown",
   "metadata": {
    "pycharm": {
     "name": "#%% md\n"
    }
   },
   "source": [
    "## Solving MultiClassification problem"
   ]
  },
  {
   "cell_type": "code",
   "execution_count": null,
   "metadata": {
    "pycharm": {
     "name": "#%%\n"
    }
   },
   "outputs": [],
   "source": [
    "from catboost import CatBoostClassifier\n",
    "model = CatBoostClassifier(\n",
    "    iterations=50,\n",
    "    random_seed=43,\n",
    "    loss_function='MultiClass'\n",
    ")\n",
    "model.fit(\n",
    "    X_train, y_train,\n",
    "    cat_features=cat_features,\n",
    "    eval_set=(X_validation, y_validation),\n",
    "    verbose=False,\n",
    "    plot=True\n",
    ")"
   ]
  },
  {
   "cell_type": "markdown",
   "metadata": {
    "pycharm": {
     "name": "#%% md\n"
    }
   },
   "source": [
    "## Metric evaluation on a new dataset"
   ]
  },
  {
   "cell_type": "code",
   "execution_count": null,
   "metadata": {
    "pycharm": {
     "name": "#%%\n"
    }
   },
   "outputs": [],
   "source": [
    "model = CatBoostClassifier(\n",
    "    random_seed=63,\n",
    "    iterations=200,\n",
    "    learning_rate=0.03,\n",
    ")\n",
    "model.fit(\n",
    "    X_train, y_train,\n",
    "    cat_features=cat_features,\n",
    "    verbose=50\n",
    ")"
   ]
  },
  {
   "cell_type": "code",
   "execution_count": null,
   "metadata": {
    "pycharm": {
     "name": "#%%\n"
    }
   },
   "outputs": [],
   "source": [
    "metrics = model.eval_metrics(\n",
    "    data=pool1,\n",
    "    metrics=['Logloss','AUC'],\n",
    "    ntree_start=0,\n",
    "    ntree_end=0,\n",
    "    eval_period=1,\n",
    "    plot=True\n",
    ")"
   ]
  },
  {
   "cell_type": "code",
   "execution_count": null,
   "metadata": {
    "pycharm": {
     "name": "#%%\n"
    }
   },
   "outputs": [],
   "source": [
    "print('AUC values:')\n",
    "print(np.array(metrics['AUC']))"
   ]
  },
  {
   "cell_type": "markdown",
   "metadata": {
    "pycharm": {
     "name": "#%% md\n"
    }
   },
   "source": [
    "\n",
    "## Feature importances"
   ]
  },
  {
   "cell_type": "code",
   "execution_count": 32,
   "metadata": {
    "pycharm": {
     "name": "#%%\n"
    }
   },
   "outputs": [
    {
     "data": {
      "text/plain": "         Feature Id  Importances\n0            MGR_ID    26.238122\n1          RESOURCE    21.054538\n2  ROLE_FAMILY_DESC    13.152169\n3     ROLE_DEPTNAME    13.013679\n4     ROLE_ROLLUP_2     7.035586\n5         ROLE_CODE     5.910841\n6        ROLE_TITLE     4.743979\n7       ROLE_FAMILY     4.610250\n8     ROLE_ROLLUP_1     4.240836",
      "text/html": "<div>\n<style scoped>\n    .dataframe tbody tr th:only-of-type {\n        vertical-align: middle;\n    }\n\n    .dataframe tbody tr th {\n        vertical-align: top;\n    }\n\n    .dataframe thead th {\n        text-align: right;\n    }\n</style>\n<table border=\"1\" class=\"dataframe\">\n  <thead>\n    <tr style=\"text-align: right;\">\n      <th></th>\n      <th>Feature Id</th>\n      <th>Importances</th>\n    </tr>\n  </thead>\n  <tbody>\n    <tr>\n      <th>0</th>\n      <td>MGR_ID</td>\n      <td>26.238122</td>\n    </tr>\n    <tr>\n      <th>1</th>\n      <td>RESOURCE</td>\n      <td>21.054538</td>\n    </tr>\n    <tr>\n      <th>2</th>\n      <td>ROLE_FAMILY_DESC</td>\n      <td>13.152169</td>\n    </tr>\n    <tr>\n      <th>3</th>\n      <td>ROLE_DEPTNAME</td>\n      <td>13.013679</td>\n    </tr>\n    <tr>\n      <th>4</th>\n      <td>ROLE_ROLLUP_2</td>\n      <td>7.035586</td>\n    </tr>\n    <tr>\n      <th>5</th>\n      <td>ROLE_CODE</td>\n      <td>5.910841</td>\n    </tr>\n    <tr>\n      <th>6</th>\n      <td>ROLE_TITLE</td>\n      <td>4.743979</td>\n    </tr>\n    <tr>\n      <th>7</th>\n      <td>ROLE_FAMILY</td>\n      <td>4.610250</td>\n    </tr>\n    <tr>\n      <th>8</th>\n      <td>ROLE_ROLLUP_1</td>\n      <td>4.240836</td>\n    </tr>\n  </tbody>\n</table>\n</div>"
     },
     "execution_count": 32,
     "metadata": {},
     "output_type": "execute_result"
    }
   ],
   "source": [
    "model.get_feature_importance(prettified=True)"
   ]
  },
  {
   "cell_type": "markdown",
   "metadata": {
    "pycharm": {
     "name": "#%% md\n"
    }
   },
   "source": [
    "## Shap values"
   ]
  },
  {
   "cell_type": "code",
   "execution_count": null,
   "metadata": {
    "pycharm": {
     "name": "#%%\n"
    }
   },
   "outputs": [],
   "source": [
    "shap_values = model.get_feature_importance(pool1, fstr_type='ShapValues')\n",
    "print(shap_values.shape)"
   ]
  },
  {
   "cell_type": "code",
   "execution_count": null,
   "metadata": {
    "pycharm": {
     "name": "#%%\n"
    }
   },
   "outputs": [],
   "source": [
    "import shap\n",
    "explainer = shap.TreeExplainer(model)\n",
    "shap_values = explainer.shap_values(Pool(X, y, cat_features=cat_features))\n",
    "\n",
    "shap.initjs()\n",
    "shap.force_plot(explainer.expected_value, shap_values[3,:], X.iloc[3,:])"
   ]
  },
  {
   "cell_type": "code",
   "execution_count": null,
   "metadata": {
    "pycharm": {
     "name": "#%%\n"
    }
   },
   "outputs": [],
   "source": [
    "import shap\n",
    "shap.initjs()\n",
    "shap.force_plot(explainer.expected_value, shap_values[91,:], X.iloc[91,:])"
   ]
  },
  {
   "cell_type": "code",
   "execution_count": null,
   "metadata": {
    "pycharm": {
     "name": "#%%\n"
    }
   },
   "outputs": [],
   "source": [
    "shap.summary_plot(shap_values, X)"
   ]
  },
  {
   "cell_type": "code",
   "execution_count": null,
   "metadata": {
    "pycharm": {
     "name": "#%%\n"
    }
   },
   "outputs": [],
   "source": [
    "X_small = X.iloc[0:200]\n",
    "shap_small = shap_values[:200]\n",
    "shap.force_plot(explainer.expected_value, shap_small, X_small)"
   ]
  },
  {
   "cell_type": "markdown",
   "metadata": {
    "pycharm": {
     "name": "#%% md\n"
    }
   },
   "source": [
    "## Feature evaluation"
   ]
  },
  {
   "cell_type": "code",
   "execution_count": 33,
   "metadata": {
    "scrolled": true,
    "pycharm": {
     "name": "#%%\n"
    }
   },
   "outputs": [
    {
     "name": "stderr",
     "output_type": "stream",
     "text": [
      "D:\\Yandex Cup\\Yandex Cup\\venv\\lib\\site-packages\\catboost\\eval\\evaluation_result.py:93: FutureWarning: The default dtype for empty Series will be 'object' instead of 'float64' in a future version. Specify a dtype explicitly to silence this warning.\n",
      "  self._fold_metric = pd.Series()\n",
      "D:\\Yandex Cup\\Yandex Cup\\venv\\lib\\site-packages\\catboost\\eval\\evaluation_result.py:94: FutureWarning: The default dtype for empty Series will be 'object' instead of 'float64' in a future version. Specify a dtype explicitly to silence this warning.\n",
      "  self._fold_metric_iteration = pd.Series()\n",
      "D:\\Yandex Cup\\Yandex Cup\\venv\\lib\\site-packages\\catboost\\eval\\evaluation_result.py:93: FutureWarning: The default dtype for empty Series will be 'object' instead of 'float64' in a future version. Specify a dtype explicitly to silence this warning.\n",
      "  self._fold_metric = pd.Series()\n",
      "D:\\Yandex Cup\\Yandex Cup\\venv\\lib\\site-packages\\catboost\\eval\\evaluation_result.py:94: FutureWarning: The default dtype for empty Series will be 'object' instead of 'float64' in a future version. Specify a dtype explicitly to silence this warning.\n",
      "  self._fold_metric_iteration = pd.Series()\n",
      "D:\\Yandex Cup\\Yandex Cup\\venv\\lib\\site-packages\\catboost\\eval\\evaluation_result.py:93: FutureWarning: The default dtype for empty Series will be 'object' instead of 'float64' in a future version. Specify a dtype explicitly to silence this warning.\n",
      "  self._fold_metric = pd.Series()\n",
      "D:\\Yandex Cup\\Yandex Cup\\venv\\lib\\site-packages\\catboost\\eval\\evaluation_result.py:94: FutureWarning: The default dtype for empty Series will be 'object' instead of 'float64' in a future version. Specify a dtype explicitly to silence this warning.\n",
      "  self._fold_metric_iteration = pd.Series()\n",
      "D:\\Yandex Cup\\Yandex Cup\\venv\\lib\\site-packages\\catboost\\eval\\evaluation_result.py:93: FutureWarning: The default dtype for empty Series will be 'object' instead of 'float64' in a future version. Specify a dtype explicitly to silence this warning.\n",
      "  self._fold_metric = pd.Series()\n",
      "D:\\Yandex Cup\\Yandex Cup\\venv\\lib\\site-packages\\catboost\\eval\\evaluation_result.py:94: FutureWarning: The default dtype for empty Series will be 'object' instead of 'float64' in a future version. Specify a dtype explicitly to silence this warning.\n",
      "  self._fold_metric_iteration = pd.Series()\n",
      "D:\\Yandex Cup\\Yandex Cup\\venv\\lib\\site-packages\\catboost\\eval\\evaluation_result.py:93: FutureWarning: The default dtype for empty Series will be 'object' instead of 'float64' in a future version. Specify a dtype explicitly to silence this warning.\n",
      "  self._fold_metric = pd.Series()\n",
      "D:\\Yandex Cup\\Yandex Cup\\venv\\lib\\site-packages\\catboost\\eval\\evaluation_result.py:94: FutureWarning: The default dtype for empty Series will be 'object' instead of 'float64' in a future version. Specify a dtype explicitly to silence this warning.\n",
      "  self._fold_metric_iteration = pd.Series()\n",
      "D:\\Yandex Cup\\Yandex Cup\\venv\\lib\\site-packages\\catboost\\eval\\evaluation_result.py:93: FutureWarning: The default dtype for empty Series will be 'object' instead of 'float64' in a future version. Specify a dtype explicitly to silence this warning.\n",
      "  self._fold_metric = pd.Series()\n",
      "D:\\Yandex Cup\\Yandex Cup\\venv\\lib\\site-packages\\catboost\\eval\\evaluation_result.py:94: FutureWarning: The default dtype for empty Series will be 'object' instead of 'float64' in a future version. Specify a dtype explicitly to silence this warning.\n",
      "  self._fold_metric_iteration = pd.Series()\n",
      "D:\\Yandex Cup\\Yandex Cup\\venv\\lib\\site-packages\\catboost\\eval\\evaluation_result.py:93: FutureWarning: The default dtype for empty Series will be 'object' instead of 'float64' in a future version. Specify a dtype explicitly to silence this warning.\n",
      "  self._fold_metric = pd.Series()\n",
      "D:\\Yandex Cup\\Yandex Cup\\venv\\lib\\site-packages\\catboost\\eval\\evaluation_result.py:94: FutureWarning: The default dtype for empty Series will be 'object' instead of 'float64' in a future version. Specify a dtype explicitly to silence this warning.\n",
      "  self._fold_metric_iteration = pd.Series()\n",
      "D:\\Yandex Cup\\Yandex Cup\\venv\\lib\\site-packages\\catboost\\eval\\evaluation_result.py:93: FutureWarning: The default dtype for empty Series will be 'object' instead of 'float64' in a future version. Specify a dtype explicitly to silence this warning.\n",
      "  self._fold_metric = pd.Series()\n",
      "D:\\Yandex Cup\\Yandex Cup\\venv\\lib\\site-packages\\catboost\\eval\\evaluation_result.py:94: FutureWarning: The default dtype for empty Series will be 'object' instead of 'float64' in a future version. Specify a dtype explicitly to silence this warning.\n",
      "  self._fold_metric_iteration = pd.Series()\n"
     ]
    }
   ],
   "source": [
    "from catboost.eval.catboost_evaluation import *\n",
    "learn_params = {'iterations': 20, # 2000\n",
    "                'learning_rate': 0.5, # we set big learning_rate,\n",
    "                                      # because we have small\n",
    "                                      # #iterations\n",
    "                'random_seed': 0,\n",
    "                'verbose': False,\n",
    "                'loss_function' : 'Logloss',\n",
    "                'boosting_type': 'Plain'}\n",
    "evaluator = CatboostEvaluation('amazon/train.tsv',\n",
    "                               fold_size=10000, # <= 50% of dataset\n",
    "                               fold_count=20,\n",
    "                               column_description='amazon/train.cd',\n",
    "                               partition_random_seed=0,\n",
    "                               #working_dir=... \n",
    ")\n",
    "result = evaluator.eval_features(learn_config=learn_params,\n",
    "                                 eval_metrics=['Logloss', 'Accuracy'],\n",
    "                                 features_to_eval=[6, 7, 8])"
   ]
  },
  {
   "cell_type": "code",
   "execution_count": null,
   "metadata": {
    "pycharm": {
     "name": "#%%\n"
    }
   },
   "outputs": [],
   "source": [
    "from catboost.eval.evaluation_result import *\n",
    "logloss_result = result.get_metric_results('Logloss')\n",
    "logloss_result.get_baseline_comparison(\n",
    "    ScoreConfig(ScoreType.Rel, overfit_iterations_info=False)\n",
    ")"
   ]
  },
  {
   "cell_type": "markdown",
   "metadata": {
    "pycharm": {
     "name": "#%% md\n"
    }
   },
   "source": [
    "## Saving the model"
   ]
  },
  {
   "cell_type": "code",
   "execution_count": null,
   "metadata": {
    "pycharm": {
     "name": "#%%\n"
    }
   },
   "outputs": [],
   "source": [
    "my_best_model = CatBoostClassifier(iterations=10)\n",
    "my_best_model.fit(\n",
    "    X_train, y_train,\n",
    "    eval_set=(X_validation, y_validation),\n",
    "    cat_features=cat_features,\n",
    "    verbose=False\n",
    ")\n",
    "my_best_model.save_model('catboost_model.bin')\n",
    "my_best_model.save_model('catboost_model.json', format='json')"
   ]
  },
  {
   "cell_type": "code",
   "execution_count": null,
   "metadata": {
    "pycharm": {
     "name": "#%%\n"
    }
   },
   "outputs": [],
   "source": [
    "my_best_model.load_model('catboost_model.bin')\n",
    "print(my_best_model.get_params())\n",
    "print(my_best_model.random_seed_)"
   ]
  },
  {
   "cell_type": "markdown",
   "metadata": {
    "pycharm": {
     "name": "#%% md\n"
    }
   },
   "source": [
    "## Hyperparameter tunning"
   ]
  },
  {
   "cell_type": "markdown",
   "metadata": {
    "pycharm": {
     "name": "#%% md\n"
    }
   },
   "source": [
    "### Training speed"
   ]
  },
  {
   "cell_type": "code",
   "execution_count": 35,
   "metadata": {
    "pycharm": {
     "name": "#%%\n"
    }
   },
   "outputs": [
    {
     "name": "stdout",
     "output_type": "stream",
     "text": [
      "0:\tlearn: 0.6803205\ttotal: 25.9ms\tremaining: 3.85s\n",
      "1:\tlearn: 0.6685739\ttotal: 39.7ms\tremaining: 2.94s\n",
      "2:\tlearn: 0.6570815\ttotal: 61.4ms\tremaining: 3.01s\n",
      "3:\tlearn: 0.6459272\ttotal: 79.3ms\tremaining: 2.89s\n",
      "4:\tlearn: 0.6338417\ttotal: 141ms\tremaining: 4.08s\n",
      "5:\tlearn: 0.6232758\ttotal: 163ms\tremaining: 3.92s\n",
      "6:\tlearn: 0.6129811\ttotal: 184ms\tremaining: 3.75s\n",
      "7:\tlearn: 0.6019134\ttotal: 219ms\tremaining: 3.9s\n",
      "8:\tlearn: 0.5917834\ttotal: 252ms\tremaining: 3.94s\n",
      "9:\tlearn: 0.5817520\ttotal: 285ms\tremaining: 3.99s\n",
      "10:\tlearn: 0.5723755\ttotal: 321ms\tremaining: 4.05s\n",
      "11:\tlearn: 0.5626993\ttotal: 350ms\tremaining: 4.03s\n",
      "12:\tlearn: 0.5532698\ttotal: 380ms\tremaining: 4s\n",
      "13:\tlearn: 0.5446650\ttotal: 400ms\tremaining: 3.89s\n",
      "14:\tlearn: 0.5359914\ttotal: 427ms\tremaining: 3.85s\n",
      "15:\tlearn: 0.5279304\ttotal: 444ms\tremaining: 3.71s\n",
      "16:\tlearn: 0.5199681\ttotal: 464ms\tremaining: 3.63s\n",
      "17:\tlearn: 0.5119955\ttotal: 488ms\tremaining: 3.58s\n",
      "18:\tlearn: 0.5034446\ttotal: 535ms\tremaining: 3.69s\n",
      "19:\tlearn: 0.4948689\ttotal: 568ms\tremaining: 3.69s\n",
      "20:\tlearn: 0.4862504\ttotal: 599ms\tremaining: 3.68s\n",
      "21:\tlearn: 0.4792498\ttotal: 614ms\tremaining: 3.57s\n",
      "22:\tlearn: 0.4722393\ttotal: 629ms\tremaining: 3.47s\n",
      "23:\tlearn: 0.4652918\ttotal: 658ms\tremaining: 3.45s\n",
      "24:\tlearn: 0.4582401\ttotal: 694ms\tremaining: 3.47s\n",
      "25:\tlearn: 0.4507300\ttotal: 724ms\tremaining: 3.45s\n",
      "26:\tlearn: 0.4435425\ttotal: 749ms\tremaining: 3.41s\n",
      "27:\tlearn: 0.4367376\ttotal: 772ms\tremaining: 3.37s\n",
      "28:\tlearn: 0.4306686\ttotal: 790ms\tremaining: 3.29s\n",
      "29:\tlearn: 0.4245579\ttotal: 814ms\tremaining: 3.26s\n",
      "30:\tlearn: 0.4183730\ttotal: 844ms\tremaining: 3.24s\n",
      "31:\tlearn: 0.4122826\ttotal: 873ms\tremaining: 3.22s\n",
      "32:\tlearn: 0.4067967\ttotal: 904ms\tremaining: 3.2s\n",
      "33:\tlearn: 0.4017852\ttotal: 923ms\tremaining: 3.15s\n",
      "34:\tlearn: 0.3960597\ttotal: 950ms\tremaining: 3.12s\n",
      "35:\tlearn: 0.3906465\ttotal: 979ms\tremaining: 3.1s\n",
      "36:\tlearn: 0.3852351\ttotal: 1000ms\tremaining: 3.05s\n",
      "37:\tlearn: 0.3804577\ttotal: 1.01s\tremaining: 2.99s\n",
      "38:\tlearn: 0.3759136\ttotal: 1.04s\tremaining: 2.97s\n",
      "39:\tlearn: 0.3708532\ttotal: 1.07s\tremaining: 2.94s\n",
      "40:\tlearn: 0.3661848\ttotal: 1.1s\tremaining: 2.92s\n",
      "41:\tlearn: 0.3611692\ttotal: 1.13s\tremaining: 2.9s\n",
      "42:\tlearn: 0.3574551\ttotal: 1.14s\tremaining: 2.84s\n",
      "43:\tlearn: 0.3531168\ttotal: 1.17s\tremaining: 2.82s\n",
      "44:\tlearn: 0.3486883\ttotal: 1.19s\tremaining: 2.79s\n",
      "45:\tlearn: 0.3451613\ttotal: 1.21s\tremaining: 2.73s\n",
      "46:\tlearn: 0.3410304\ttotal: 1.24s\tremaining: 2.71s\n",
      "47:\tlearn: 0.3369776\ttotal: 1.26s\tremaining: 2.69s\n",
      "48:\tlearn: 0.3335656\ttotal: 1.28s\tremaining: 2.64s\n",
      "49:\tlearn: 0.3299130\ttotal: 1.31s\tremaining: 2.63s\n",
      "50:\tlearn: 0.3263081\ttotal: 1.33s\tremaining: 2.59s\n",
      "51:\tlearn: 0.3230836\ttotal: 1.35s\tremaining: 2.55s\n",
      "52:\tlearn: 0.3195428\ttotal: 1.38s\tremaining: 2.53s\n",
      "53:\tlearn: 0.3161708\ttotal: 1.41s\tremaining: 2.51s\n",
      "54:\tlearn: 0.3129640\ttotal: 1.43s\tremaining: 2.47s\n",
      "55:\tlearn: 0.3104239\ttotal: 1.45s\tremaining: 2.43s\n",
      "56:\tlearn: 0.3075900\ttotal: 1.47s\tremaining: 2.4s\n",
      "57:\tlearn: 0.3043098\ttotal: 1.5s\tremaining: 2.38s\n",
      "58:\tlearn: 0.3014298\ttotal: 1.52s\tremaining: 2.35s\n",
      "59:\tlearn: 0.2989681\ttotal: 1.55s\tremaining: 2.32s\n",
      "60:\tlearn: 0.2961578\ttotal: 1.58s\tremaining: 2.31s\n",
      "61:\tlearn: 0.2937196\ttotal: 1.6s\tremaining: 2.28s\n",
      "62:\tlearn: 0.2909747\ttotal: 1.63s\tremaining: 2.25s\n",
      "63:\tlearn: 0.2886915\ttotal: 1.66s\tremaining: 2.23s\n",
      "64:\tlearn: 0.2861558\ttotal: 1.69s\tremaining: 2.21s\n",
      "65:\tlearn: 0.2835575\ttotal: 1.72s\tremaining: 2.19s\n",
      "66:\tlearn: 0.2815222\ttotal: 1.74s\tremaining: 2.15s\n",
      "67:\tlearn: 0.2792017\ttotal: 1.75s\tremaining: 2.11s\n",
      "68:\tlearn: 0.2768281\ttotal: 1.78s\tremaining: 2.09s\n",
      "69:\tlearn: 0.2746856\ttotal: 1.81s\tremaining: 2.07s\n",
      "70:\tlearn: 0.2725301\ttotal: 1.83s\tremaining: 2.04s\n",
      "71:\tlearn: 0.2701427\ttotal: 1.86s\tremaining: 2.02s\n",
      "72:\tlearn: 0.2678453\ttotal: 1.89s\tremaining: 1.99s\n",
      "73:\tlearn: 0.2657041\ttotal: 1.92s\tremaining: 1.97s\n",
      "74:\tlearn: 0.2636884\ttotal: 1.95s\tremaining: 1.95s\n",
      "75:\tlearn: 0.2621697\ttotal: 1.97s\tremaining: 1.91s\n",
      "76:\tlearn: 0.2603715\ttotal: 2s\tremaining: 1.89s\n",
      "77:\tlearn: 0.2585230\ttotal: 2.02s\tremaining: 1.87s\n",
      "78:\tlearn: 0.2569464\ttotal: 2.06s\tremaining: 1.85s\n",
      "79:\tlearn: 0.2554936\ttotal: 2.08s\tremaining: 1.82s\n",
      "80:\tlearn: 0.2538763\ttotal: 2.11s\tremaining: 1.8s\n",
      "81:\tlearn: 0.2527348\ttotal: 2.12s\tremaining: 1.76s\n",
      "82:\tlearn: 0.2511288\ttotal: 2.15s\tremaining: 1.74s\n",
      "83:\tlearn: 0.2496081\ttotal: 2.18s\tremaining: 1.71s\n",
      "84:\tlearn: 0.2484133\ttotal: 2.2s\tremaining: 1.68s\n",
      "85:\tlearn: 0.2469862\ttotal: 2.23s\tremaining: 1.66s\n",
      "86:\tlearn: 0.2454591\ttotal: 2.25s\tremaining: 1.63s\n",
      "87:\tlearn: 0.2440222\ttotal: 2.28s\tremaining: 1.61s\n",
      "88:\tlearn: 0.2425903\ttotal: 2.31s\tremaining: 1.58s\n",
      "89:\tlearn: 0.2416684\ttotal: 2.32s\tremaining: 1.55s\n",
      "90:\tlearn: 0.2403251\ttotal: 2.34s\tremaining: 1.52s\n",
      "91:\tlearn: 0.2391609\ttotal: 2.37s\tremaining: 1.49s\n",
      "92:\tlearn: 0.2380136\ttotal: 2.4s\tremaining: 1.47s\n",
      "93:\tlearn: 0.2368000\ttotal: 2.43s\tremaining: 1.45s\n",
      "94:\tlearn: 0.2356665\ttotal: 2.44s\tremaining: 1.42s\n",
      "95:\tlearn: 0.2347146\ttotal: 2.46s\tremaining: 1.38s\n",
      "96:\tlearn: 0.2334359\ttotal: 2.49s\tremaining: 1.36s\n",
      "97:\tlearn: 0.2321465\ttotal: 2.52s\tremaining: 1.34s\n",
      "98:\tlearn: 0.2310697\ttotal: 2.55s\tremaining: 1.31s\n",
      "99:\tlearn: 0.2298174\ttotal: 2.58s\tremaining: 1.29s\n",
      "100:\tlearn: 0.2288333\ttotal: 2.6s\tremaining: 1.26s\n",
      "101:\tlearn: 0.2278896\ttotal: 2.63s\tremaining: 1.24s\n",
      "102:\tlearn: 0.2269875\ttotal: 2.66s\tremaining: 1.21s\n",
      "103:\tlearn: 0.2260798\ttotal: 2.68s\tremaining: 1.18s\n",
      "104:\tlearn: 0.2249834\ttotal: 2.71s\tremaining: 1.16s\n",
      "105:\tlearn: 0.2240718\ttotal: 2.73s\tremaining: 1.13s\n",
      "106:\tlearn: 0.2228883\ttotal: 2.76s\tremaining: 1.11s\n",
      "107:\tlearn: 0.2220632\ttotal: 2.79s\tremaining: 1.09s\n",
      "108:\tlearn: 0.2212334\ttotal: 2.82s\tremaining: 1.06s\n",
      "109:\tlearn: 0.2205138\ttotal: 2.85s\tremaining: 1.04s\n",
      "110:\tlearn: 0.2199419\ttotal: 2.87s\tremaining: 1.01s\n",
      "111:\tlearn: 0.2189377\ttotal: 2.9s\tremaining: 983ms\n",
      "112:\tlearn: 0.2181129\ttotal: 2.93s\tremaining: 958ms\n",
      "113:\tlearn: 0.2175314\ttotal: 2.95s\tremaining: 931ms\n",
      "114:\tlearn: 0.2168762\ttotal: 2.98s\tremaining: 906ms\n",
      "115:\tlearn: 0.2161211\ttotal: 3s\tremaining: 881ms\n",
      "116:\tlearn: 0.2152232\ttotal: 3.03s\tremaining: 856ms\n",
      "117:\tlearn: 0.2145234\ttotal: 3.06s\tremaining: 830ms\n",
      "118:\tlearn: 0.2137468\ttotal: 3.09s\tremaining: 806ms\n",
      "119:\tlearn: 0.2133295\ttotal: 3.1s\tremaining: 776ms\n",
      "120:\tlearn: 0.2125768\ttotal: 3.13s\tremaining: 751ms\n",
      "121:\tlearn: 0.2119801\ttotal: 3.15s\tremaining: 723ms\n",
      "122:\tlearn: 0.2112703\ttotal: 3.18s\tremaining: 697ms\n",
      "123:\tlearn: 0.2105138\ttotal: 3.21s\tremaining: 673ms\n",
      "124:\tlearn: 0.2100350\ttotal: 3.22s\tremaining: 645ms\n",
      "125:\tlearn: 0.2093698\ttotal: 3.25s\tremaining: 620ms\n",
      "126:\tlearn: 0.2088335\ttotal: 3.29s\tremaining: 595ms\n",
      "127:\tlearn: 0.2083150\ttotal: 3.31s\tremaining: 570ms\n",
      "128:\tlearn: 0.2079880\ttotal: 3.33s\tremaining: 542ms\n",
      "129:\tlearn: 0.2072156\ttotal: 3.36s\tremaining: 516ms\n",
      "130:\tlearn: 0.2066950\ttotal: 3.39s\tremaining: 491ms\n",
      "131:\tlearn: 0.2062148\ttotal: 3.41s\tremaining: 465ms\n",
      "132:\tlearn: 0.2056308\ttotal: 3.44s\tremaining: 440ms\n",
      "133:\tlearn: 0.2051360\ttotal: 3.47s\tremaining: 415ms\n",
      "134:\tlearn: 0.2045552\ttotal: 3.5s\tremaining: 389ms\n",
      "135:\tlearn: 0.2040979\ttotal: 3.53s\tremaining: 363ms\n",
      "136:\tlearn: 0.2034829\ttotal: 3.56s\tremaining: 338ms\n",
      "137:\tlearn: 0.2029487\ttotal: 3.59s\tremaining: 312ms\n",
      "138:\tlearn: 0.2024145\ttotal: 3.62s\tremaining: 286ms\n",
      "139:\tlearn: 0.2019165\ttotal: 3.65s\tremaining: 261ms\n",
      "140:\tlearn: 0.2015036\ttotal: 3.68s\tremaining: 235ms\n",
      "141:\tlearn: 0.2011183\ttotal: 3.71s\tremaining: 209ms\n",
      "142:\tlearn: 0.2006788\ttotal: 3.74s\tremaining: 183ms\n",
      "143:\tlearn: 0.2001221\ttotal: 3.77s\tremaining: 157ms\n",
      "144:\tlearn: 0.1997644\ttotal: 3.8s\tremaining: 131ms\n",
      "145:\tlearn: 0.1992678\ttotal: 3.83s\tremaining: 105ms\n",
      "146:\tlearn: 0.1988286\ttotal: 3.86s\tremaining: 78.7ms\n",
      "147:\tlearn: 0.1985045\ttotal: 3.88s\tremaining: 52.5ms\n",
      "148:\tlearn: 0.1980305\ttotal: 3.91s\tremaining: 26.3ms\n",
      "149:\tlearn: 0.1977712\ttotal: 3.94s\tremaining: 0us\n"
     ]
    },
    {
     "data": {
      "text/plain": "<catboost.core.CatBoostClassifier at 0x214683ad360>"
     },
     "execution_count": 35,
     "metadata": {},
     "output_type": "execute_result"
    }
   ],
   "source": [
    "from catboost import CatBoost\n",
    "fast_model = CatBoostClassifier(\n",
    "    random_seed=63,\n",
    "    iterations=150,\n",
    "    learning_rate=0.01,\n",
    "    boosting_type='Plain',\n",
    "    bootstrap_type='Bernoulli',\n",
    "    subsample=0.5,\n",
    "    one_hot_max_size=20,\n",
    "    rsm=0.5,\n",
    "    leaf_estimation_iterations=5,\n",
    "    max_ctr_complexity=1)\n",
    "\n",
    "fast_model.fit(\n",
    "    X_train, y_train,\n",
    "    cat_features=cat_features,\n",
    "    verbose=True,\n",
    "    #plot=True\n",
    ")"
   ]
  },
  {
   "cell_type": "code",
   "execution_count": 36,
   "outputs": [
    {
     "data": {
      "text/plain": "[0, 1, 2, 3, 4, 5, 6, 7, 8]"
     },
     "execution_count": 36,
     "metadata": {},
     "output_type": "execute_result"
    }
   ],
   "source": [
    "cat_features"
   ],
   "metadata": {
    "collapsed": false,
    "pycharm": {
     "name": "#%%\n"
    }
   }
  },
  {
   "cell_type": "markdown",
   "metadata": {
    "pycharm": {
     "name": "#%% md\n"
    }
   },
   "source": [
    "### Accuracy"
   ]
  },
  {
   "cell_type": "code",
   "execution_count": null,
   "metadata": {
    "pycharm": {
     "name": "#%%\n"
    }
   },
   "outputs": [],
   "source": [
    "tunned_model = CatBoostClassifier(\n",
    "    random_seed=63,\n",
    "    iterations=1000,\n",
    "    learning_rate=0.03,\n",
    "    l2_leaf_reg=3,\n",
    "    bagging_temperature=1,\n",
    "    random_strength=1,\n",
    "    one_hot_max_size=2,\n",
    "    leaf_estimation_method='Newton'\n",
    ")\n",
    "tunned_model.fit(\n",
    "    X_train, y_train,\n",
    "    cat_features=cat_features,\n",
    "    verbose=False,\n",
    "    eval_set=(X_validation, y_validation),\n",
    "    plot=True\n",
    ")"
   ]
  },
  {
   "cell_type": "markdown",
   "metadata": {
    "pycharm": {
     "name": "#%% md\n"
    }
   },
   "source": [
    "## Training the model after parameter tunning"
   ]
  },
  {
   "cell_type": "code",
   "execution_count": null,
   "metadata": {
    "pycharm": {
     "name": "#%%\n"
    }
   },
   "outputs": [],
   "source": [
    "best_model = CatBoostClassifier(\n",
    "    random_seed=63,\n",
    "    iterations=int(tunned_model.tree_count_ * 1.2),\n",
    ")\n",
    "best_model.fit(\n",
    "    X, y,\n",
    "    cat_features=cat_features,\n",
    "    verbose=100\n",
    ")"
   ]
  },
  {
   "cell_type": "markdown",
   "metadata": {
    "pycharm": {
     "name": "#%% md\n"
    }
   },
   "source": [
    "## Calculate predictions for the contest"
   ]
  },
  {
   "cell_type": "code",
   "execution_count": null,
   "metadata": {
    "pycharm": {
     "name": "#%%\n"
    }
   },
   "outputs": [],
   "source": [
    "X_test = test_df.drop('id', axis=1)\n",
    "test_pool = Pool(data=X_test, cat_features=cat_features)\n",
    "contest_predictions = best_model.predict_proba(test_pool)\n",
    "print('Predictoins:')\n",
    "print(contest_predictions)"
   ]
  },
  {
   "cell_type": "markdown",
   "metadata": {
    "pycharm": {
     "name": "#%% md\n"
    }
   },
   "source": [
    "## Prepare the submission"
   ]
  },
  {
   "cell_type": "code",
   "execution_count": null,
   "metadata": {
    "pycharm": {
     "name": "#%%\n"
    }
   },
   "outputs": [],
   "source": [
    "f = open('submit.csv', 'w')\n",
    "f.write('Id,Action\\n')\n",
    "for idx in range(len(contest_predictions)):\n",
    "    line = str(test_df['id'][idx]) + ',' + str(contest_predictions[idx][1]) + '\\n'\n",
    "    f.write(line)\n",
    "f.close()"
   ]
  },
  {
   "cell_type": "markdown",
   "metadata": {
    "pycharm": {
     "name": "#%% md\n"
    }
   },
   "source": [
    "Submit your solution [here](https://www.kaggle.com/c/amazon-employee-access-challenge/submit).\n",
    "Good luck!!!"
   ]
  },
  {
   "cell_type": "markdown",
   "metadata": {
    "pycharm": {
     "name": "#%% md\n"
    }
   },
   "source": [
    "## Bonus\n",
    "### Solving MultiClassification problem via Ranking"
   ]
  },
  {
   "cell_type": "markdown",
   "metadata": {
    "pycharm": {
     "name": "#%% md\n"
    }
   },
   "source": [
    "For multiclass problems with many classes sometimes it's better to solve classification problem using ranking.\n",
    "To do that we will build a dataset with groups.\n",
    "Every group will represent one object from our initial dataset.\n",
    "But it will have one additional categorical feature - possible class value.\n",
    "Target values will be equal to 1 if the class value is equal to the correct class, and 0 otherwise.\n",
    "Thus each group will have exactly one 1 in labels, and some zeros.\n",
    "You can put all possible class values in the group or you can try setting only hard negatives if there are too many labels.\n",
    "We'll show this approach on an example of binary classification problem."
   ]
  },
  {
   "cell_type": "code",
   "execution_count": null,
   "metadata": {
    "pycharm": {
     "name": "#%%\n"
    }
   },
   "outputs": [],
   "source": [
    "from copy import deepcopy\n",
    "def build_multiclass_ranking_dataset(X, y, cat_features, label_values=[0,1], start_group_id=0):\n",
    "    ranking_matrix = []\n",
    "    ranking_labels = []\n",
    "    group_ids = []\n",
    "\n",
    "    X_train_matrix = X.values\n",
    "    y_train_vector = y.values\n",
    "\n",
    "    for obj_idx in range(X.shape[0]):\n",
    "        obj = list(X_train_matrix[obj_idx])\n",
    "\n",
    "        for label in label_values:\n",
    "            obj_of_given_class = deepcopy(obj)\n",
    "            obj_of_given_class.append(label)\n",
    "            ranking_matrix.append(obj_of_given_class)\n",
    "            ranking_labels.append(float(y_train_vector[obj_idx] == label)) \n",
    "            group_ids.append(start_group_id + obj_idx)\n",
    "        \n",
    "    final_cat_features = deepcopy(cat_features)\n",
    "    final_cat_features.append(X.shape[1]) # new feature that we are adding should be categorical.\n",
    "    return Pool(ranking_matrix, ranking_labels, cat_features=final_cat_features, group_id = group_ids)"
   ]
  },
  {
   "cell_type": "code",
   "execution_count": null,
   "metadata": {
    "pycharm": {
     "name": "#%%\n"
    }
   },
   "outputs": [],
   "source": [
    "from catboost import CatBoost\n",
    "params = {'iterations':150, 'learning_rate':0.01, 'l2_leaf_reg':30, 'random_seed':0, 'loss_function':'QuerySoftMax'}\n",
    "\n",
    "groupwise_train_pool = build_multiclass_ranking_dataset(X_train, y_train, cat_features, [0,1])\n",
    "groupwise_eval_pool = build_multiclass_ranking_dataset(X_validation, y_validation, cat_features, [0,1], X_train.shape[0])\n",
    "\n",
    "model = CatBoost(params)\n",
    "model.fit(\n",
    "    X=groupwise_train_pool,\n",
    "    verbose=False,\n",
    "    eval_set=groupwise_eval_pool,\n",
    "    plot=True\n",
    ")"
   ]
  },
  {
   "cell_type": "markdown",
   "metadata": {
    "pycharm": {
     "name": "#%% md\n"
    }
   },
   "source": [
    "Doing predictions with ranking mode"
   ]
  },
  {
   "cell_type": "code",
   "execution_count": null,
   "metadata": {
    "pycharm": {
     "name": "#%%\n"
    }
   },
   "outputs": [],
   "source": [
    "import math\n",
    "\n",
    "obj = list(X_validation.values[0])\n",
    "ratings = []\n",
    "for label in [0,1]:\n",
    "    obj_with_label = deepcopy(obj)\n",
    "    obj_with_label.append(label)\n",
    "    rating = model.predict([obj_with_label])[0]\n",
    "    ratings.append(rating)\n",
    "print('Raw values:', np.array(ratings))\n",
    "\n",
    "def soft_max(values):\n",
    "    return [math.exp(val) / sum([math.exp(val) for val in values]) for val in values]\n",
    "\n",
    "print('Probabilities', np.array(soft_max(ratings)))"
   ]
  }
 ],
 "metadata": {
  "kernelspec": {
   "display_name": "Python 3",
   "language": "python",
   "name": "python3"
  },
  "language_info": {
   "codemirror_mode": {
    "name": "ipython",
    "version": 3
   },
   "file_extension": ".py",
   "mimetype": "text/x-python",
   "name": "python",
   "nbconvert_exporter": "python",
   "pygments_lexer": "ipython3",
   "version": "3.7.0"
  },
  "widgets": {
   "state": {
    "1057714ebc614324aa3ba2cf69408966": {
     "views": [
      {
       "cell_index": 17
      }
     ]
    },
    "8381e9eed05f4a03905ae8a56d7ab4ea": {
     "views": [
      {
       "cell_index": 48
      }
     ]
    },
    "f49684e8c5c44241bfe2c7f577f5cb41": {
     "views": [
      {
       "cell_index": 53
      }
     ]
    }
   },
   "version": "1.2.0"
  }
 },
 "nbformat": 4,
 "nbformat_minor": 2
}